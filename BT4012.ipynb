{
  "nbformat": 4,
  "nbformat_minor": 0,
  "metadata": {
    "colab": {
      "provenance": [],
      "collapsed_sections": [],
      "toc_visible": true,
      "authorship_tag": "ABX9TyN21y4CROSlxlxGR9/medSm",
      "include_colab_link": true
    },
    "kernelspec": {
      "name": "python3",
      "display_name": "Python 3"
    },
    "language_info": {
      "name": "python"
    }
  },
  "cells": [
    {
      "cell_type": "markdown",
      "metadata": {
        "id": "view-in-github",
        "colab_type": "text"
      },
      "source": [
        "<a href=\"https://colab.research.google.com/github/TarciusW/bt4012_fraud_analytics/blob/main/BT4012.ipynb\" target=\"_parent\"><img src=\"https://colab.research.google.com/assets/colab-badge.svg\" alt=\"Open In Colab\"/></a>"
      ]
    },
    {
      "cell_type": "markdown",
      "source": [
        "#BT4012 Fraud Analytics"
      ],
      "metadata": {
        "id": "1aPqAovMoy0O"
      }
    },
    {
      "cell_type": "markdown",
      "source": [
        "## Project Group 11\n",
        "Clara Tay Linn Qi\n",
        "\n",
        "Kok Ze Xuan\n",
        "\n",
        "Loo Hui Lin\n",
        "\n",
        "Wee Zhen Qi, Tarcius\n",
        "\n",
        "Wong Chung How, Brian"
      ],
      "metadata": {
        "id": "xGHD7BCRo3_y"
      }
    },
    {
      "cell_type": "markdown",
      "source": [
        "### Import Packages"
      ],
      "metadata": {
        "id": "XbYY3jS5rCj5"
      }
    },
    {
      "cell_type": "code",
      "source": [
        "import pandas as pd\n",
        "import numpy as np\n",
        "import seaborn as sb"
      ],
      "metadata": {
        "id": "iEXCy-DlrGJv"
      },
      "execution_count": null,
      "outputs": []
    },
    {
      "cell_type": "code",
      "source": [],
      "metadata": {
        "id": "qA8Ikmz0rKBO"
      },
      "execution_count": null,
      "outputs": []
    }
  ]
}